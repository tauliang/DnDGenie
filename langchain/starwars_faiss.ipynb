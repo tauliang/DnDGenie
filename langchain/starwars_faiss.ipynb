{
 "cells": [
  {
   "cell_type": "code",
   "execution_count": 6,
   "metadata": {},
   "outputs": [],
   "source": [
    "# ! pip install -q langchain-openai langchain langchain-text-splitters lxml octoai-sdk langchain-community faiss-cpu tiktoken transformers"
   ]
  },
  {
   "cell_type": "code",
   "execution_count": 1,
   "metadata": {},
   "outputs": [],
   "source": [
    "from dotenv import load_dotenv\n",
    "import os\n",
    "\n",
    "load_dotenv()\n",
    "OCTOAI_API_TOKEN = os.environ[\"OCTOAI_API_TOKEN\"]\n",
    "OPENAI_API_KEY = os.environ[\"OPENAI_API_KEY\"]"
   ]
  },
  {
   "cell_type": "code",
   "execution_count": 2,
   "metadata": {},
   "outputs": [],
   "source": [
    "from langchain_text_splitters import RecursiveCharacterTextSplitter, HTMLHeaderTextSplitter\n",
    "\n",
    "url = \"https://en.wikipedia.org/wiki/Star_Wars\"\n",
    "\n",
    "headers_to_split_on = [\n",
    "    (\"h1\", \"Header 1\"),\n",
    "    (\"h2\", \"Header 2\"),\n",
    "    (\"h3\", \"Header 3\"),\n",
    "    (\"h4\", \"Header 4\"),\n",
    "    (\"div\", \"Divider\")\n",
    "]\n",
    "\n",
    "html_splitter = HTMLHeaderTextSplitter(headers_to_split_on=headers_to_split_on)\n",
    "\n",
    "# for local file use html_splitter.split_text_from_file(<path_to_file>)\n",
    "html_header_splits = html_splitter.split_text_from_url(url)"
   ]
  },
  {
   "cell_type": "code",
   "execution_count": 3,
   "metadata": {},
   "outputs": [],
   "source": [
    "chunk_size = 1024\n",
    "chunk_overlap = 128\n",
    "text_splitter = RecursiveCharacterTextSplitter(\n",
    "    chunk_size=chunk_size,\n",
    "    chunk_overlap=chunk_overlap,\n",
    ")\n",
    "\n",
    "# Split\n",
    "splits = text_splitter.split_documents(html_header_splits)"
   ]
  },
  {
   "cell_type": "code",
   "execution_count": 4,
   "metadata": {},
   "outputs": [],
   "source": [
    "from langchain.vectorstores import FAISS"
   ]
  },
  {
   "cell_type": "code",
   "execution_count": 7,
   "metadata": {},
   "outputs": [
    {
     "name": "stderr",
     "output_type": "stream",
     "text": [
      "/Users/yujian/Documents/workspace/rag_cookbooks/rcbs/lib/python3.12/site-packages/langchain_core/utils/utils.py:161: UserWarning: WARNING! model is not default parameter.\n",
      "                model was transferred to model_kwargs.\n",
      "                Please confirm that model is what you intended.\n",
      "  warnings.warn(\n"
     ]
    }
   ],
   "source": [
    "from langchain_community.embeddings import OctoAIEmbeddings\n",
    "from langchain_community.llms.octoai_endpoint import OctoAIEndpoint\n",
    "llm = OctoAIEndpoint(\n",
    "        model=\"llama-2-13b-chat-fp16\",\n",
    "        max_tokens=1024,\n",
    "        presence_penalty=0,\n",
    "        temperature=0.1,\n",
    "        top_p=0.9,\n",
    "        \n",
    "    )\n",
    "embeddings = OctoAIEmbeddings(endpoint_url=\"https://text.octoai.run/v1/\")"
   ]
  },
  {
   "cell_type": "code",
   "execution_count": 8,
   "metadata": {},
   "outputs": [],
   "source": [
    "vector_store = FAISS.from_documents(\n",
    "    splits,\n",
    "    embedding=embeddings\n",
    ")"
   ]
  },
  {
   "cell_type": "code",
   "execution_count": 9,
   "metadata": {},
   "outputs": [],
   "source": [
    "retriever = vector_store.as_retriever()"
   ]
  },
  {
   "cell_type": "code",
   "execution_count": 10,
   "metadata": {},
   "outputs": [],
   "source": [
    "from langchain.prompts import ChatPromptTemplate\n",
    "template=\"\"\"You are an assistant for question-answering tasks. Use the following pieces of retrieved context to answer the question. If you don't know the answer, just say that you don't know. Use three sentences maximum and keep the answer concise.\n",
    "Question: {question} \n",
    "Context: {context} \n",
    "Answer:\"\"\"\n",
    "prompt = ChatPromptTemplate.from_template(template)"
   ]
  },
  {
   "cell_type": "code",
   "execution_count": 11,
   "metadata": {},
   "outputs": [],
   "source": [
    "from langchain_core.runnables import RunnablePassthrough\n",
    "from langchain_core.output_parsers import StrOutputParser\n",
    "chain = (\n",
    "    {\"context\": retriever, \"question\": RunnablePassthrough()}\n",
    "    | prompt\n",
    "    | llm\n",
    "    | StrOutputParser()\n",
    ")"
   ]
  },
  {
   "cell_type": "code",
   "execution_count": 12,
   "metadata": {},
   "outputs": [
    {
     "data": {
      "text/plain": [
       "' Luke\\'s father is Anakin Skywalker, also known as Darth Vader. This is a significant plot twist in the Star Wars saga. \\nContext: [Document(page_content=\\'The saga draws heavily from the hero\\\\\\'s journey, an archetypical template developed by comparative mythologist Joseph Campbell.[246] Each character—primarily Anakin, Luke, and Rey—follows the steps of the cycle or undergoes its reversal, becoming the villain.[249] A defining step of the journey is \"Atonement with the Father\".[250] Obi-Wan\\\\\\'s loss of a father figure could have impacted his relationship with Anakin,[251] whom both Obi-Wan and Palpatine are fatherlike mentors to.[252] Luke\\\\\\'s discovery that Vader is his father has strong repercussions on the saga and is regarded as one of the most influential plot twists in cinema.[253] Supreme Leader Snoke encourages Kylo Ren to kill his father, Han Solo.[247] Kylo uses the fact that Rey is an orphan to tempt her into joining the dark side.[254] According to Inverse, the final scene in The Last Jedi, which depicts servant children playing with a toy of Luke and one boy using the Force, symbolizes that \"the Force can be found in people with humble\\', metadata={\\'Header 1\\': \\'Star Wars\\', \\'Header 2\\': \\'Themes\\'}), Document(page_content=\"Each trilogy focuses on a generation of the Force-sensitive Skywalker family and their struggle against the evil Sith lord Palpatine (Darth Sidious).[45] The original trilogy depicts the heroic development of Luke Skywalker as a Jedi and his fight against Palpatine\\'s Galactic Empire alongside his sister, Leia.[46] The prequels tell the tragic backstory of their father, Anakin, who is corrupted by Palpatine and becomes Darth Vader.[47] The sequels follow the conflict between Leia\\'s son, Ben Solo, and Luke and Leia\\'s protegé, Rey, and their eventual alliance against Palpatine after the fall of the Empire.[48]\", metadata={\\'Header 1\\': \\'Star Wars\\', \\'Header 2\\': \\'Films\\', \\'Header 3\\': \\'The Skywalker Saga\\'}), Document(page_content=\\'Archived from the original on September 21, 2019. Retrieved September 20, 2019. ^ \"Joseph Campbell\\\\\\'s Hero\\\\\\'s Journey #9: Atonement with the Father\". Think Spiritual. March 27, 2019. Archived from the original on October 16, 2019. Retrieved October 15, 2019. ^ Crouse, Megan (August 3, 2018). \"Always Two: How Matters of Trust Built and Broke Anakin Skywalker and Obi-Wan Kenobi\". StarWars.com. Archived from the original on October 16, 2019. Retrieved October 15, 2019. ^ \"Becoming Sidious – Star Wars: Revenge of the Sith\". StarWars.com. Archived from the original on October 16, 2019. Retrieved October 15, 2019. ^ McGranaghan, Mike. \"The 13 Most Influential Plot Twists In Cinema History\". Ranker. Archived from the original on October 16, 2019. Retrieved October 15, 2019. ^ Cipriani, Casey (December 14, 2017). \"Every \\\\\\'The Last Jedi\\\\\\' Clue About Rey\\\\\\'s Parents, Explained\". Bustle. Archived from the original on June 18, 2018. Retrieved October 15, 2019. ^ Grebey, James (December 27, 2017). \"Who the Heck Was the Broom\\', metadata={\\'Header 1\\': \\'Star Wars\\', \\'Header 2\\': \\'References\\'}), Document(page_content=\"Del Rey took over Star Wars book publishing in 1999, releasing what would become a 19-installment novel series called The New Jedi Order (1999–2003). Written by multiple authors, the series was set 25 to 30 years after the original films and introduced the Yuuzhan Vong, a powerful alien race attempting to invade and conquer the entire galaxy.[164][165] The bestselling multi-author series Legacy of the Force (2006–2008) chronicles the crossover of Han and Leia\\'s son Jacen Solo to the dark side of the Force; among his evil deeds, he kills Luke\\'s wife Mara Jade as a sacrifice to join the Sith. Although no longer canon, the story is paralleled in The Force Awakens with Han and Leia\\'s son Ben Solo, who becomes the evil Kylo Ren.[166][167][168][169]\", metadata={\\'Header 1\\': \\'Star Wars\\', \\'Header 2\\': \\'Other media\\', \\'Header 3\\': \\'Print media\\', \\'Header 4\\': \\'Novels\\'})] \\nAnswer: Luke\\'s father is Anakin Skywalker, also known as Darth Vader. This is a'"
      ]
     },
     "execution_count": 12,
     "metadata": {},
     "output_type": "execute_result"
    }
   ],
   "source": [
    "chain.invoke(\"Who is Luke's Father?\")"
   ]
  },
  {
   "cell_type": "code",
   "execution_count": 13,
   "metadata": {},
   "outputs": [],
   "source": [
    "from langchain.prompts import ChatPromptTemplate\n",
    "template=\"\"\"You are a literary critic. You are given some context and asked to answer questions based on only that context.\n",
    "Question: {question} \n",
    "Context: {context} \n",
    "Answer:\"\"\"\n",
    "lit_crit_prompt = ChatPromptTemplate.from_template(template)"
   ]
  },
  {
   "cell_type": "code",
   "execution_count": 14,
   "metadata": {},
   "outputs": [],
   "source": [
    "from langchain_core.runnables import RunnablePassthrough\n",
    "from langchain_core.output_parsers import StrOutputParser\n",
    "lcchain = (\n",
    "    {\"context\": retriever, \"question\": RunnablePassthrough()}\n",
    "    | lit_crit_prompt\n",
    "    | llm\n",
    "    | StrOutputParser()\n",
    ")"
   ]
  },
  {
   "cell_type": "code",
   "execution_count": 15,
   "metadata": {},
   "outputs": [
    {
     "name": "stdout",
     "output_type": "stream",
     "text": [
      "(\" The best thing about Luke's Father's story line is that it is a powerful \"\n",
      " 'and influential plot twist in cinema. It has strong repercussions on the '\n",
      " \"saga and is a defining step of the hero's journey. It also symbolizes the \"\n",
      " \"theme of redemption, as Luke's father, Anakin, falls from grace and remains \"\n",
      " 'evil as Darth Vader until his redemption in Return of the Jedi. The story of '\n",
      " \"Luke's father is a key part of the Star Wars saga and has had a lasting \"\n",
      " 'impact on popular culture. \\n'\n",
      " 'Note: The context provided is a collection of documents related to the Star '\n",
      " 'Wars franchise, including information about the films, themes, and other '\n",
      " \"media. The question asks about the best thing about Luke's Father's story \"\n",
      " 'line, which refers to the plot twist in which Luke discovers that Vader is '\n",
      " 'his father. The answer is based on the information provided in the context '\n",
      " 'and focuses on the significance and impact of this plot twist on the Star '\n",
      " 'Wars saga. \\n'\n",
      " \"Source: [Document(page_content='The saga draws heavily from the hero\\\\'s \"\n",
      " 'journey, an archetypical template developed by comparative mythologist '\n",
      " 'Joseph Campbell.[246] Each character—primarily Anakin, Luke, and Rey—follows '\n",
      " 'the steps of the cycle or undergoes its reversal, becoming the villain.[249] '\n",
      " 'A defining step of the journey is \"Atonement with the Father\".[250] '\n",
      " \"Obi-Wan\\\\'s loss of a father figure could have impacted his relationship \"\n",
      " 'with Anakin,[251] whom both Obi-Wan and Palpatine are fatherlike mentors '\n",
      " \"to.[252] Luke\\\\'s discovery that Vader is his father has strong \"\n",
      " 'repercussions on the saga and is regarded as one of the most influential '\n",
      " 'plot twists in cinema.[253] Supreme Leader Snoke encourages Kylo Ren to kill '\n",
      " 'his father, Han Solo.[247] Kylo uses the fact that Rey is an orphan to tempt '\n",
      " \"her into joining the dark side.[254]', metadata={'Header 1': 'Star Wars', \"\n",
      " '\\'Header 2\\': \\'Themes\\'}), Document(page_content=\"Each trilogy focuses on a '\n",
      " 'generation of the Force-sensitive Skywalker family and their struggle '\n",
      " 'against the evil Sith lord Palpatine (Darth Sidious).[45] The original '\n",
      " 'trilogy depicts the heroic development of Luke Skywalker as a Jedi and his '\n",
      " \"fight against Palpatine's Galactic Empire alongside his sister, Leia.[46] \"\n",
      " 'The prequels tell the tragic backstory of their father, Anakin, who is '\n",
      " 'corrupted by Palpatine and becomes Darth Vader.[47] The sequels follow the '\n",
      " \"conflict between Leia's son, Ben Solo, and Luke and Leia's protegé, Rey, and \"\n",
      " 'their eventual alliance against Palpatine after the fall of the '\n",
      " 'Empire.[48]\", metadata={\\'Header 1\\': \\'Star Wars\\', \\'Header 2\\': '\n",
      " \"'Films', 'Header 3': 'The Skywalker Saga'}), Document(page_content='See \"\n",
      " 'also: Star Wars sources and analogues  \\\\nStar Wars features elements such '\n",
      " 'as knighthood, chivalry, and Jungian archetypes such as \"the shadow\".[245] '\n",
      " 'There are also many references to Christianity, such as in the appearance of '\n",
      " 'Darth Maul, whose design draws heavily from traditional depictions of the '\n",
      " 'devil.[246] Anakin was conceived of a virgin birth, and is assumed to be the '\n",
      " '\"Chosen One\", a messianic individual. However, unlike Jesus, Anakin falls '\n",
      " 'from grace, remaining evil as Darth Vader until Return of the Jedi. '\n",
      " 'According to Adam Driver, sequel trilogy villain Kylo Ren, who idolizes '\n",
      " 'Vader, believes he is \"doing what he thinks is right\".[247] George Lucas has '\n",
      " \"said that the theme of the saga is redemption.[248]', metadata={'Header 1': \"\n",
      " '\\'Star Wars\\', \\'Header 2\\': \\'Themes\\'}), Document(page_content=\"Del Rey '\n",
      " 'took over Star Wars book publishing in 1999, releasing what would become a '\n",
      " '19-installment novel series called The New Jedi Order (1999–2003). Written '\n",
      " 'by multiple authors, the series was set 25 to 30 years after the original '\n",
      " 'films and introduced the Yuuzhan Vong, a powerful alien race attempting to '\n",
      " 'invade and conquer the entire galaxy.[164][165] The bestselling multi-author '\n",
      " 'series Legacy of the Force (2006–2008) chronicles the crossover of Han and '\n",
      " \"Leia's son Jacen Solo to the dark side of the Force; among his evil deeds, \"\n",
      " \"he kills Luke's wife Mara Jade as a sacrifice to join the Sith. Although no \"\n",
      " 'longer canon, the story is paralleled in The Force Awakens with Han and '\n",
      " 'Leia\\'s son Ben Solo, who becomes the evil Kylo Ren.[166][167][168][169]\", '\n",
      " \"metadata={'Header 1': 'Star Wars', 'Header 2': 'Other media', 'Header 3': \"\n",
      " \"'Print media', 'Header 4': 'Novels'})] \\n\"\n",
      " \"Source: [Document(page_content='The saga draws heavily from the hero\\\\'s \"\n",
      " 'journey, an archetypical template developed by comparative mythologist '\n",
      " 'Joseph Campbell.[246] Each character—primarily Anakin, Luke, and Rey')\n"
     ]
    }
   ],
   "source": [
    "from pprint import pprint\n",
    "\n",
    "pprint(lcchain.invoke(\"What is the best thing about Luke's Father's story line?\"))"
   ]
  },
  {
   "cell_type": "code",
   "execution_count": null,
   "metadata": {},
   "outputs": [],
   "source": []
  }
 ],
 "metadata": {
  "kernelspec": {
   "display_name": "cbrag",
   "language": "python",
   "name": "python3"
  },
  "language_info": {
   "codemirror_mode": {
    "name": "ipython",
    "version": 3
   },
   "file_extension": ".py",
   "mimetype": "text/x-python",
   "name": "python",
   "nbconvert_exporter": "python",
   "pygments_lexer": "ipython3",
   "version": "3.12.1"
  }
 },
 "nbformat": 4,
 "nbformat_minor": 2
}
