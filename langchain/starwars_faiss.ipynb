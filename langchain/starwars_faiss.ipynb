{
 "cells": [
  {
   "cell_type": "code",
   "execution_count": 15,
   "metadata": {},
   "outputs": [],
   "source": [
    "# ! pip install -q langchain-openai langchain langchain-text-splitters lxml octoai-sdk langchain-community faiss-cpu tiktoken transformers"
   ]
  },
  {
   "cell_type": "code",
   "execution_count": 16,
   "metadata": {},
   "outputs": [],
   "source": [
    "from dotenv import load_dotenv\n",
    "import os\n",
    "\n",
    "load_dotenv()\n",
    "OCTOAI_API_TOKEN = os.environ[\"OCTOAI_API_TOKEN\"]\n",
    "OPENAI_API_KEY = os.environ[\"OPENAI_API_KEY\"]"
   ]
  },
  {
   "cell_type": "code",
   "execution_count": 29,
   "metadata": {},
   "outputs": [],
   "source": [
    "from langchain_text_splitters import RecursiveCharacterTextSplitter, HTMLHeaderTextSplitter\n",
    "\n",
    "url = \"https://en.wikipedia.org/wiki/The_Shawshank_Redemption\"\n",
    "\n",
    "headers_to_split_on = [\n",
    "    (\"h1\", \"Header 1\"),\n",
    "    (\"h2\", \"Header 2\"),\n",
    "    (\"h3\", \"Header 3\"),\n",
    "    (\"h4\", \"Header 4\"),\n",
    "    (\"div\", \"Divider\")\n",
    "]\n",
    "\n",
    "html_splitter = HTMLHeaderTextSplitter(headers_to_split_on=headers_to_split_on)\n",
    "\n",
    "# for local file use html_splitter.split_text_from_file(<path_to_file>)\n",
    "html_header_splits = html_splitter.split_text_from_url(url)"
   ]
  },
  {
   "cell_type": "code",
   "execution_count": 30,
   "metadata": {},
   "outputs": [],
   "source": [
    "chunk_size = 1024\n",
    "chunk_overlap = 128\n",
    "text_splitter = RecursiveCharacterTextSplitter(\n",
    "    chunk_size=chunk_size,\n",
    "    chunk_overlap=chunk_overlap,\n",
    ")\n",
    "\n",
    "# Split\n",
    "splits = text_splitter.split_documents(html_header_splits)"
   ]
  },
  {
   "cell_type": "code",
   "execution_count": 31,
   "metadata": {},
   "outputs": [],
   "source": [
    "from langchain.vectorstores import FAISS"
   ]
  },
  {
   "cell_type": "code",
   "execution_count": 32,
   "metadata": {},
   "outputs": [
    {
     "name": "stderr",
     "output_type": "stream",
     "text": [
      "/Users/tirta/anaconda3/envs/py3.11.8/lib/python3.11/site-packages/langchain_core/utils/utils.py:161: UserWarning: WARNING! model is not default parameter.\n",
      "                model was transferred to model_kwargs.\n",
      "                Please confirm that model is what you intended.\n",
      "  warnings.warn(\n"
     ]
    }
   ],
   "source": [
    "from langchain_community.embeddings import OctoAIEmbeddings\n",
    "from langchain_community.llms.octoai_endpoint import OctoAIEndpoint\n",
    "llm = OctoAIEndpoint(\n",
    "        model=\"llama-2-13b-chat-fp16\",\n",
    "        max_tokens=1024,\n",
    "        presence_penalty=0,\n",
    "        temperature=0.1,\n",
    "        top_p=0.9,\n",
    "        \n",
    "    )\n",
    "embeddings = OctoAIEmbeddings(endpoint_url=\"https://text.octoai.run/v1/\")"
   ]
  },
  {
   "cell_type": "code",
   "execution_count": 33,
   "metadata": {},
   "outputs": [],
   "source": [
    "vector_store = FAISS.from_documents(\n",
    "    splits,\n",
    "    embedding=embeddings\n",
    ")"
   ]
  },
  {
   "cell_type": "code",
   "execution_count": 34,
   "metadata": {},
   "outputs": [],
   "source": [
    "retriever = vector_store.as_retriever()"
   ]
  },
  {
   "cell_type": "code",
   "execution_count": 35,
   "metadata": {},
   "outputs": [],
   "source": [
    "from langchain.prompts import ChatPromptTemplate\n",
    "template=\"\"\"You are an assistant for question-answering tasks. Use the following pieces of retrieved context to answer the question. If you don't know the answer, just say that you don't know. Use three sentences maximum and keep the answer concise.\n",
    "Question: {question} \n",
    "Context: {context} \n",
    "Answer:\"\"\"\n",
    "prompt = ChatPromptTemplate.from_template(template)"
   ]
  },
  {
   "cell_type": "code",
   "execution_count": 36,
   "metadata": {},
   "outputs": [],
   "source": [
    "from langchain_core.runnables import RunnablePassthrough\n",
    "from langchain_core.output_parsers import StrOutputParser\n",
    "chain = (\n",
    "    {\"context\": retriever, \"question\": RunnablePassthrough()}\n",
    "    | prompt\n",
    "    | llm\n",
    "    | StrOutputParser()\n",
    ")"
   ]
  },
  {
   "cell_type": "code",
   "execution_count": 37,
   "metadata": {},
   "outputs": [
    {
     "data": {
      "text/plain": [
       "\" I don't know. The provided context does not mention Luke's father. It appears to be discussing the movie The Shawshank Redemption and its themes, characters, and analysis. Luke is a character from the Star Wars franchise, and his father is a topic of discussion in that context, not in this one.\""
      ]
     },
     "execution_count": 37,
     "metadata": {},
     "output_type": "execute_result"
    }
   ],
   "source": [
    "chain.invoke(\"Who is Luke's Father?\")"
   ]
  },
  {
   "cell_type": "code",
   "execution_count": 38,
   "metadata": {},
   "outputs": [],
   "source": [
    "from langchain.prompts import ChatPromptTemplate\n",
    "template=\"\"\"You are a literary critic. You are given some context and asked to answer questions based on only that context.\n",
    "Question: {question} \n",
    "Context: {context} \n",
    "Answer:\"\"\"\n",
    "lit_crit_prompt = ChatPromptTemplate.from_template(template)"
   ]
  },
  {
   "cell_type": "code",
   "execution_count": 39,
   "metadata": {},
   "outputs": [],
   "source": [
    "from langchain_core.runnables import RunnablePassthrough\n",
    "from langchain_core.output_parsers import StrOutputParser\n",
    "lcchain = (\n",
    "    {\"context\": retriever, \"question\": RunnablePassthrough()}\n",
    "    | lit_crit_prompt\n",
    "    | llm\n",
    "    | StrOutputParser()\n",
    ")"
   ]
  },
  {
   "cell_type": "code",
   "execution_count": 45,
   "metadata": {},
   "outputs": [
    {
     "name": "stdout",
     "output_type": "stream",
     "text": [
      "(' Here are five American prison drama films: \\n'\n",
      " '1. The Shawshank Redemption (1994) \\n'\n",
      " '2. The Green Mile (1999) \\n'\n",
      " \"3. One Flew Over the Cuckoo\\\\'s Nest (1975) \\n\"\n",
      " '4. Papillon (1973) \\n'\n",
      " '5. Cool Hand Luke (1967) \\n'\n",
      " 'Note: These films are mentioned in the provided context, which includes '\n",
      " 'lists of the best prison movies ever made and greatest films of all time. \\n'\n",
      " \"Context: [Document(page_content='2014. Archived from the original on January \"\n",
      " '13, 2018. Retrieved January 13, 2018. ^ Robey, Tim (July 23, 2017). \"From '\n",
      " 'Shawshank to Scum: the 20 best prison movies ever made\". The Daily '\n",
      " 'Telegraph. London. Archived from the original on January 11, 2018. Retrieved '\n",
      " 'January 11, 2018. ^ \"50 best movies of all time\". USA Today. McLean, '\n",
      " 'Virginia. December 23, 2017. Archived from the original on April 19, 2021. '\n",
      " 'Retrieved April 19, 2021. ^ Edwards, Rich (August 15, 2019). \"The 25 best '\n",
      " 'movie endings of all time, from Casablanca to Avengers: Infinity War\". '\n",
      " 'GamesRadar+. Archived from the original on September 22, 2019. Retrieved '\n",
      " 'January 10, 2020. ^ Dunaway, Michael (July 10, 2012). \"The 90 Best Movies of '\n",
      " 'the 1990s\". Paste. Archived from the original on January 11, 2018. Retrieved '\n",
      " 'January 11, 2018. ^ Nicholls, Owen (May 15, 2012). \"9 Best Films Of The '\n",
      " '90s\". NME. Archived from the original on January 13, 2018. Retrieved January '\n",
      " '13, 2018. ^ \"The 50 Best Movies of the \\\\\\'90s\". Complex. June 22, 2013. '\n",
      " \"Archived from the original', metadata={'Header 1': 'The Shawshank \"\n",
      " \"Redemption', 'Header 2': 'References[edit]', 'Header 3': \"\n",
      " '\\'Citations[edit]\\'}), Document(page_content=\"In 2005, the Writers Guild of '\n",
      " \"America listed Darabont's screenplay at number 22 on its list of the 101 \"\n",
      " 'greatest screenplays,[123] and in 2006, Film4 listed it number 13 on its '\n",
      " 'list of 50 Films to See Before You Die.[124] In 2014, The Shawshank '\n",
      " \"Redemption was named Hollywood's fourth-favorite film, based on a survey of \"\n",
      " '2,120 Hollywood-based entertainment industry members; entertainment lawyers '\n",
      " 'skewed the most towards the film.[125] In 2017, The Daily Telegraph named it '\n",
      " 'the 17th-best prison film ever made,[126] and USA Today listed it as one of '\n",
      " 'the 50 best films of all time.[127] In 2019, GamesRadar+ listed its ending '\n",
      " 'as one of the best of all time.[128]  \\\\nThe Shawshank Redemption appeared '\n",
      " 'on several lists of the greatest films of the 1990s, by outlets including: '\n",
      " 'Paste and NME (2012),[129][130] Complex (2013),[131] CHUD.com (2014),[132] '\n",
      " 'MSN (2015),[133] TheWrap,[134] Maxim,[135] and Rolling Stone (all '\n",
      " '2017).[136]\", metadata={\\'Header 1\\': \\'The Shawshank Redemption\\', \\'Header '\n",
      " \"2': 'Legacy[edit]', 'Header 3': 'Critical reassessment[edit]'}), \"\n",
      " 'Document(page_content=\\'23, 2015). \"\\\\\\'The Shawshank Redemption\\\\\\': 10 fun '\n",
      " 'facts about the movie 21 years after its release\". New York Daily News. '\n",
      " 'Archived from the original on September 21, 2017. Retrieved September 21, '\n",
      " '2017. ^ Forgione, Mary (July 9, 2014). \"\\\\\\'Shawshank Redemption\\\\\\' at 20? '\n",
      " 'Ohio prison, film sites plan events\". Los Angeles Times. Archived from the '\n",
      " 'original on September 23, 2017. Retrieved September 23, 2017. ^ a b c d \"The '\n",
      " 'Shawshank Redemption (1994)\". Box Office Mojo. Archived from the original on '\n",
      " 'January 2, 2013. Retrieved January 4, 2010. ^ Frook, John Evan (March 24, '\n",
      " '1993). \"Location News; Mexico\\\\\\'s Cine South looks to branch out\". Variety. '\n",
      " 'Archived from the original on October 17, 2017. Retrieved October 16, 2017. '\n",
      " '^ a b c d e f \"Cleveland: The Shawshank Redemption prison\". The A.V. Club. '\n",
      " 'March 8, 2011. Archived from the original on September 14, 2017. Retrieved '\n",
      " 'September 14, ')\n"
     ]
    }
   ],
   "source": [
    "from pprint import pprint\n",
    "\n",
    "pprint(lcchain.invoke(\"Name five American prison drama films.\"))"
   ]
  },
  {
   "cell_type": "code",
   "execution_count": null,
   "metadata": {},
   "outputs": [],
   "source": []
  }
 ],
 "metadata": {
  "kernelspec": {
   "display_name": "cbrag",
   "language": "python",
   "name": "python3"
  },
  "language_info": {
   "codemirror_mode": {
    "name": "ipython",
    "version": 3
   },
   "file_extension": ".py",
   "mimetype": "text/x-python",
   "name": "python",
   "nbconvert_exporter": "python",
   "pygments_lexer": "ipython3",
   "version": "3.11.8"
  }
 },
 "nbformat": 4,
 "nbformat_minor": 2
}
