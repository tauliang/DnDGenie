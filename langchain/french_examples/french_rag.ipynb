{
 "cells": [
  {
   "cell_type": "code",
   "execution_count": null,
   "metadata": {},
   "outputs": [],
   "source": [
    "# ! pip install -qU pymilvus langchain sentence-transformers tiktoken octoai-sdk openai \n",
    "# ! zsh ../standalone_embed.sh start"
   ]
  },
  {
   "cell_type": "code",
   "execution_count": 1,
   "metadata": {},
   "outputs": [],
   "source": [
    "from dotenv import load_dotenv\n",
    "import os\n",
    "\n",
    "load_dotenv()\n",
    "os.environ[\"OPENAI_API_KEY\"] = os.getenv(\"OPENAI_API_KEY\")"
   ]
  },
  {
   "cell_type": "code",
   "execution_count": 2,
   "metadata": {},
   "outputs": [],
   "source": [
    "from langchain_openai import OpenAI\n",
    "llm = OpenAI()"
   ]
  },
  {
   "cell_type": "code",
   "execution_count": 3,
   "metadata": {},
   "outputs": [],
   "source": [
    "from langchain_community.embeddings import HuggingFaceEmbeddings\n",
    "from langchain_community.vectorstores import Milvus"
   ]
  },
  {
   "cell_type": "code",
   "execution_count": 4,
   "metadata": {},
   "outputs": [
    {
     "name": "stderr",
     "output_type": "stream",
     "text": [
      "/Users/yujiantang/Documents/workspace/rag_cookbooks/rcbs/lib/python3.12/site-packages/tqdm/auto.py:21: TqdmWarning: IProgress not found. Please update jupyter and ipywidgets. See https://ipywidgets.readthedocs.io/en/stable/user_install.html\n",
      "  from .autonotebook import tqdm as notebook_tqdm\n",
      "/Users/yujiantang/Documents/workspace/rag_cookbooks/rcbs/lib/python3.12/site-packages/huggingface_hub/file_download.py:1132: FutureWarning: `resume_download` is deprecated and will be removed in version 1.0.0. Downloads always resume when possible. If you want to force a new download, use `force_download=True`.\n",
      "  warnings.warn(\n"
     ]
    }
   ],
   "source": [
    "embeddings = HuggingFaceEmbeddings()"
   ]
  },
  {
   "cell_type": "code",
   "execution_count": 5,
   "metadata": {},
   "outputs": [],
   "source": [
    "from langchain.text_splitter import CharacterTextSplitter\n",
    "from langchain.schema import Document\n",
    "import os"
   ]
  },
  {
   "cell_type": "code",
   "execution_count": 6,
   "metadata": {},
   "outputs": [],
   "source": [
    "files = os.listdir(\"./french_city_data\")"
   ]
  },
  {
   "cell_type": "code",
   "execution_count": 7,
   "metadata": {},
   "outputs": [
    {
     "data": {
      "text/plain": [
       "['Chicago.txt',\n",
       " 'Lisbon.txt',\n",
       " 'Berlin.txt',\n",
       " 'Moscow.txt',\n",
       " 'Copenhagen.txt',\n",
       " 'Karachi.txt',\n",
       " 'Paris.txt',\n",
       " 'Houston.txt',\n",
       " 'Seattle.txt',\n",
       " 'Munich.txt',\n",
       " 'Shanghai.txt',\n",
       " 'Pékin.txt',\n",
       " 'Beijing.txt',\n",
       " 'London.txt',\n",
       " 'Toronto.txt',\n",
       " 'San Francisco.txt',\n",
       " 'Atlanta.txt',\n",
       " 'Boston.txt',\n",
       " 'Tokyo.txt',\n",
       " 'Cairo.txt']"
      ]
     },
     "execution_count": 7,
     "metadata": {},
     "output_type": "execute_result"
    }
   ],
   "source": [
    "files"
   ]
  },
  {
   "cell_type": "code",
   "execution_count": 8,
   "metadata": {},
   "outputs": [],
   "source": [
    "file_texts = []"
   ]
  },
  {
   "cell_type": "code",
   "execution_count": 9,
   "metadata": {},
   "outputs": [
    {
     "name": "stderr",
     "output_type": "stream",
     "text": [
      "Created a chunk of size 1335, which is longer than the specified 512\n",
      "Created a chunk of size 701, which is longer than the specified 512\n",
      "Created a chunk of size 620, which is longer than the specified 512\n",
      "Created a chunk of size 600, which is longer than the specified 512\n",
      "Created a chunk of size 725, which is longer than the specified 512\n",
      "Created a chunk of size 828, which is longer than the specified 512\n",
      "Created a chunk of size 552, which is longer than the specified 512\n",
      "Created a chunk of size 611, which is longer than the specified 512\n",
      "Created a chunk of size 673, which is longer than the specified 512\n",
      "Created a chunk of size 571, which is longer than the specified 512\n",
      "Created a chunk of size 802, which is longer than the specified 512\n",
      "Created a chunk of size 907, which is longer than the specified 512\n",
      "Created a chunk of size 607, which is longer than the specified 512\n",
      "Created a chunk of size 876, which is longer than the specified 512\n",
      "Created a chunk of size 768, which is longer than the specified 512\n",
      "Created a chunk of size 629, which is longer than the specified 512\n",
      "Created a chunk of size 583, which is longer than the specified 512\n",
      "Created a chunk of size 530, which is longer than the specified 512\n",
      "Created a chunk of size 970, which is longer than the specified 512\n",
      "Created a chunk of size 957, which is longer than the specified 512\n",
      "Created a chunk of size 1448, which is longer than the specified 512\n",
      "Created a chunk of size 827, which is longer than the specified 512\n",
      "Created a chunk of size 732, which is longer than the specified 512\n",
      "Created a chunk of size 1016, which is longer than the specified 512\n",
      "Created a chunk of size 925, which is longer than the specified 512\n",
      "Created a chunk of size 555, which is longer than the specified 512\n",
      "Created a chunk of size 1483, which is longer than the specified 512\n",
      "Created a chunk of size 904, which is longer than the specified 512\n",
      "Created a chunk of size 715, which is longer than the specified 512\n",
      "Created a chunk of size 666, which is longer than the specified 512\n",
      "Created a chunk of size 853, which is longer than the specified 512\n",
      "Created a chunk of size 992, which is longer than the specified 512\n",
      "Created a chunk of size 936, which is longer than the specified 512\n",
      "Created a chunk of size 715, which is longer than the specified 512\n",
      "Created a chunk of size 697, which is longer than the specified 512\n",
      "Created a chunk of size 842, which is longer than the specified 512\n",
      "Created a chunk of size 602, which is longer than the specified 512\n",
      "Created a chunk of size 614, which is longer than the specified 512\n",
      "Created a chunk of size 613, which is longer than the specified 512\n",
      "Created a chunk of size 636, which is longer than the specified 512\n",
      "Created a chunk of size 822, which is longer than the specified 512\n",
      "Created a chunk of size 960, which is longer than the specified 512\n",
      "Created a chunk of size 581, which is longer than the specified 512\n",
      "Created a chunk of size 726, which is longer than the specified 512\n",
      "Created a chunk of size 586, which is longer than the specified 512\n",
      "Created a chunk of size 840, which is longer than the specified 512\n",
      "Created a chunk of size 847, which is longer than the specified 512\n",
      "Created a chunk of size 985, which is longer than the specified 512\n",
      "Created a chunk of size 596, which is longer than the specified 512\n",
      "Created a chunk of size 813, which is longer than the specified 512\n",
      "Created a chunk of size 786, which is longer than the specified 512\n",
      "Created a chunk of size 694, which is longer than the specified 512\n",
      "Created a chunk of size 832, which is longer than the specified 512\n",
      "Created a chunk of size 679, which is longer than the specified 512\n",
      "Created a chunk of size 709, which is longer than the specified 512\n",
      "Created a chunk of size 758, which is longer than the specified 512\n",
      "Created a chunk of size 883, which is longer than the specified 512\n",
      "Created a chunk of size 835, which is longer than the specified 512\n",
      "Created a chunk of size 542, which is longer than the specified 512\n",
      "Created a chunk of size 783, which is longer than the specified 512\n",
      "Created a chunk of size 828, which is longer than the specified 512\n",
      "Created a chunk of size 609, which is longer than the specified 512\n",
      "Created a chunk of size 834, which is longer than the specified 512\n",
      "Created a chunk of size 814, which is longer than the specified 512\n",
      "Created a chunk of size 767, which is longer than the specified 512\n",
      "Created a chunk of size 1243, which is longer than the specified 512\n",
      "Created a chunk of size 669, which is longer than the specified 512\n",
      "Created a chunk of size 577, which is longer than the specified 512\n",
      "Created a chunk of size 543, which is longer than the specified 512\n",
      "Created a chunk of size 753, which is longer than the specified 512\n",
      "Created a chunk of size 633, which is longer than the specified 512\n",
      "Created a chunk of size 721, which is longer than the specified 512\n",
      "Created a chunk of size 697, which is longer than the specified 512\n",
      "Created a chunk of size 624, which is longer than the specified 512\n",
      "Created a chunk of size 827, which is longer than the specified 512\n",
      "Created a chunk of size 980, which is longer than the specified 512\n",
      "Created a chunk of size 610, which is longer than the specified 512\n",
      "Created a chunk of size 1352, which is longer than the specified 512\n",
      "Created a chunk of size 689, which is longer than the specified 512\n",
      "Created a chunk of size 639, which is longer than the specified 512\n",
      "Created a chunk of size 561, which is longer than the specified 512\n",
      "Created a chunk of size 661, which is longer than the specified 512\n",
      "Created a chunk of size 1117, which is longer than the specified 512\n",
      "Created a chunk of size 736, which is longer than the specified 512\n",
      "Created a chunk of size 523, which is longer than the specified 512\n",
      "Created a chunk of size 598, which is longer than the specified 512\n",
      "Created a chunk of size 1235, which is longer than the specified 512\n",
      "Created a chunk of size 667, which is longer than the specified 512\n",
      "Created a chunk of size 565, which is longer than the specified 512\n",
      "Created a chunk of size 1544, which is longer than the specified 512\n",
      "Created a chunk of size 1174, which is longer than the specified 512\n",
      "Created a chunk of size 579, which is longer than the specified 512\n",
      "Created a chunk of size 1379, which is longer than the specified 512\n",
      "Created a chunk of size 795, which is longer than the specified 512\n",
      "Created a chunk of size 1797, which is longer than the specified 512\n",
      "Created a chunk of size 1081, which is longer than the specified 512\n",
      "Created a chunk of size 759, which is longer than the specified 512\n",
      "Created a chunk of size 1224, which is longer than the specified 512\n",
      "Created a chunk of size 786, which is longer than the specified 512\n",
      "Created a chunk of size 731, which is longer than the specified 512\n",
      "Created a chunk of size 810, which is longer than the specified 512\n",
      "Created a chunk of size 1421, which is longer than the specified 512\n",
      "Created a chunk of size 533, which is longer than the specified 512\n",
      "Created a chunk of size 686, which is longer than the specified 512\n",
      "Created a chunk of size 959, which is longer than the specified 512\n",
      "Created a chunk of size 592, which is longer than the specified 512\n",
      "Created a chunk of size 975, which is longer than the specified 512\n",
      "Created a chunk of size 881, which is longer than the specified 512\n",
      "Created a chunk of size 756, which is longer than the specified 512\n",
      "Created a chunk of size 981, which is longer than the specified 512\n",
      "Created a chunk of size 1017, which is longer than the specified 512\n",
      "Created a chunk of size 2147, which is longer than the specified 512\n",
      "Created a chunk of size 826, which is longer than the specified 512\n",
      "Created a chunk of size 655, which is longer than the specified 512\n",
      "Created a chunk of size 553, which is longer than the specified 512\n",
      "Created a chunk of size 809, which is longer than the specified 512\n",
      "Created a chunk of size 2002, which is longer than the specified 512\n",
      "Created a chunk of size 562, which is longer than the specified 512\n",
      "Created a chunk of size 1147, which is longer than the specified 512\n",
      "Created a chunk of size 1601, which is longer than the specified 512\n",
      "Created a chunk of size 865, which is longer than the specified 512\n",
      "Created a chunk of size 1216, which is longer than the specified 512\n",
      "Created a chunk of size 1101, which is longer than the specified 512\n",
      "Created a chunk of size 626, which is longer than the specified 512\n",
      "Created a chunk of size 565, which is longer than the specified 512\n",
      "Created a chunk of size 753, which is longer than the specified 512\n",
      "Created a chunk of size 657, which is longer than the specified 512\n",
      "Created a chunk of size 1476, which is longer than the specified 512\n",
      "Created a chunk of size 637, which is longer than the specified 512\n",
      "Created a chunk of size 1098, which is longer than the specified 512\n",
      "Created a chunk of size 569, which is longer than the specified 512\n",
      "Created a chunk of size 818, which is longer than the specified 512\n",
      "Created a chunk of size 539, which is longer than the specified 512\n",
      "Created a chunk of size 1065, which is longer than the specified 512\n",
      "Created a chunk of size 699, which is longer than the specified 512\n",
      "Created a chunk of size 839, which is longer than the specified 512\n",
      "Created a chunk of size 943, which is longer than the specified 512\n",
      "Created a chunk of size 722, which is longer than the specified 512\n",
      "Created a chunk of size 1287, which is longer than the specified 512\n",
      "Created a chunk of size 887, which is longer than the specified 512\n",
      "Created a chunk of size 853, which is longer than the specified 512\n",
      "Created a chunk of size 713, which is longer than the specified 512\n",
      "Created a chunk of size 695, which is longer than the specified 512\n",
      "Created a chunk of size 956, which is longer than the specified 512\n",
      "Created a chunk of size 1278, which is longer than the specified 512\n",
      "Created a chunk of size 844, which is longer than the specified 512\n",
      "Created a chunk of size 586, which is longer than the specified 512\n",
      "Created a chunk of size 819, which is longer than the specified 512\n",
      "Created a chunk of size 773, which is longer than the specified 512\n",
      "Created a chunk of size 634, which is longer than the specified 512\n",
      "Created a chunk of size 602, which is longer than the specified 512\n",
      "Created a chunk of size 1121, which is longer than the specified 512\n",
      "Created a chunk of size 1545, which is longer than the specified 512\n",
      "Created a chunk of size 745, which is longer than the specified 512\n",
      "Created a chunk of size 857, which is longer than the specified 512\n",
      "Created a chunk of size 521, which is longer than the specified 512\n",
      "Created a chunk of size 952, which is longer than the specified 512\n",
      "Created a chunk of size 874, which is longer than the specified 512\n",
      "Created a chunk of size 665, which is longer than the specified 512\n",
      "Created a chunk of size 594, which is longer than the specified 512\n",
      "Created a chunk of size 894, which is longer than the specified 512\n",
      "Created a chunk of size 536, which is longer than the specified 512\n",
      "Created a chunk of size 1169, which is longer than the specified 512\n",
      "Created a chunk of size 756, which is longer than the specified 512\n",
      "Created a chunk of size 653, which is longer than the specified 512\n",
      "Created a chunk of size 908, which is longer than the specified 512\n",
      "Created a chunk of size 530, which is longer than the specified 512\n",
      "Created a chunk of size 1092, which is longer than the specified 512\n",
      "Created a chunk of size 589, which is longer than the specified 512\n",
      "Created a chunk of size 732, which is longer than the specified 512\n",
      "Created a chunk of size 640, which is longer than the specified 512\n",
      "Created a chunk of size 571, which is longer than the specified 512\n",
      "Created a chunk of size 760, which is longer than the specified 512\n",
      "Created a chunk of size 582, which is longer than the specified 512\n",
      "Created a chunk of size 539, which is longer than the specified 512\n",
      "Created a chunk of size 746, which is longer than the specified 512\n",
      "Created a chunk of size 602, which is longer than the specified 512\n",
      "Created a chunk of size 617, which is longer than the specified 512\n",
      "Created a chunk of size 1369, which is longer than the specified 512\n",
      "Created a chunk of size 939, which is longer than the specified 512\n",
      "Created a chunk of size 685, which is longer than the specified 512\n",
      "Created a chunk of size 805, which is longer than the specified 512\n",
      "Created a chunk of size 539, which is longer than the specified 512\n",
      "Created a chunk of size 745, which is longer than the specified 512\n",
      "Created a chunk of size 555, which is longer than the specified 512\n",
      "Created a chunk of size 2620, which is longer than the specified 512\n",
      "Created a chunk of size 515, which is longer than the specified 512\n",
      "Created a chunk of size 602, which is longer than the specified 512\n",
      "Created a chunk of size 625, which is longer than the specified 512\n",
      "Created a chunk of size 562, which is longer than the specified 512\n",
      "Created a chunk of size 542, which is longer than the specified 512\n",
      "Created a chunk of size 1396, which is longer than the specified 512\n",
      "Created a chunk of size 631, which is longer than the specified 512\n",
      "Created a chunk of size 793, which is longer than the specified 512\n",
      "Created a chunk of size 594, which is longer than the specified 512\n",
      "Created a chunk of size 564, which is longer than the specified 512\n",
      "Created a chunk of size 569, which is longer than the specified 512\n",
      "Created a chunk of size 649, which is longer than the specified 512\n",
      "Created a chunk of size 610, which is longer than the specified 512\n",
      "Created a chunk of size 1107, which is longer than the specified 512\n",
      "Created a chunk of size 557, which is longer than the specified 512\n",
      "Created a chunk of size 620, which is longer than the specified 512\n",
      "Created a chunk of size 786, which is longer than the specified 512\n",
      "Created a chunk of size 661, which is longer than the specified 512\n",
      "Created a chunk of size 613, which is longer than the specified 512\n",
      "Created a chunk of size 615, which is longer than the specified 512\n",
      "Created a chunk of size 673, which is longer than the specified 512\n",
      "Created a chunk of size 1147, which is longer than the specified 512\n",
      "Created a chunk of size 1180, which is longer than the specified 512\n",
      "Created a chunk of size 850, which is longer than the specified 512\n",
      "Created a chunk of size 770, which is longer than the specified 512\n",
      "Created a chunk of size 842, which is longer than the specified 512\n",
      "Created a chunk of size 527, which is longer than the specified 512\n",
      "Created a chunk of size 800, which is longer than the specified 512\n",
      "Created a chunk of size 727, which is longer than the specified 512\n",
      "Created a chunk of size 2093, which is longer than the specified 512\n",
      "Created a chunk of size 615, which is longer than the specified 512\n",
      "Created a chunk of size 1101, which is longer than the specified 512\n",
      "Created a chunk of size 555, which is longer than the specified 512\n",
      "Created a chunk of size 808, which is longer than the specified 512\n",
      "Created a chunk of size 565, which is longer than the specified 512\n",
      "Created a chunk of size 1773, which is longer than the specified 512\n",
      "Created a chunk of size 1383, which is longer than the specified 512\n",
      "Created a chunk of size 537, which is longer than the specified 512\n",
      "Created a chunk of size 627, which is longer than the specified 512\n",
      "Created a chunk of size 670, which is longer than the specified 512\n",
      "Created a chunk of size 573, which is longer than the specified 512\n",
      "Created a chunk of size 701, which is longer than the specified 512\n",
      "Created a chunk of size 933, which is longer than the specified 512\n",
      "Created a chunk of size 720, which is longer than the specified 512\n",
      "Created a chunk of size 954, which is longer than the specified 512\n",
      "Created a chunk of size 614, which is longer than the specified 512\n",
      "Created a chunk of size 520, which is longer than the specified 512\n",
      "Created a chunk of size 801, which is longer than the specified 512\n",
      "Created a chunk of size 541, which is longer than the specified 512\n",
      "Created a chunk of size 1047, which is longer than the specified 512\n",
      "Created a chunk of size 631, which is longer than the specified 512\n",
      "Created a chunk of size 699, which is longer than the specified 512\n",
      "Created a chunk of size 743, which is longer than the specified 512\n",
      "Created a chunk of size 661, which is longer than the specified 512\n",
      "Created a chunk of size 1079, which is longer than the specified 512\n",
      "Created a chunk of size 532, which is longer than the specified 512\n",
      "Created a chunk of size 621, which is longer than the specified 512\n",
      "Created a chunk of size 628, which is longer than the specified 512\n",
      "Created a chunk of size 818, which is longer than the specified 512\n",
      "Created a chunk of size 648, which is longer than the specified 512\n",
      "Created a chunk of size 761, which is longer than the specified 512\n",
      "Created a chunk of size 605, which is longer than the specified 512\n",
      "Created a chunk of size 794, which is longer than the specified 512\n",
      "Created a chunk of size 1344, which is longer than the specified 512\n",
      "Created a chunk of size 986, which is longer than the specified 512\n",
      "Created a chunk of size 1171, which is longer than the specified 512\n",
      "Created a chunk of size 1632, which is longer than the specified 512\n",
      "Created a chunk of size 957, which is longer than the specified 512\n",
      "Created a chunk of size 1088, which is longer than the specified 512\n",
      "Created a chunk of size 1723, which is longer than the specified 512\n",
      "Created a chunk of size 624, which is longer than the specified 512\n",
      "Created a chunk of size 700, which is longer than the specified 512\n",
      "Created a chunk of size 526, which is longer than the specified 512\n"
     ]
    }
   ],
   "source": [
    "for file in files:\n",
    "    with open(f\"./french_city_data/{file}\") as f:\n",
    "        file_text = f.read()\n",
    "    text_splitter = CharacterTextSplitter.from_tiktoken_encoder(\n",
    "        chunk_size=512, chunk_overlap=64, \n",
    "    )\n",
    "    texts = text_splitter.split_text(file_text)\n",
    "    for i, chunked_text in enumerate(texts):\n",
    "        file_texts.append(Document(page_content=chunked_text, \n",
    "                metadata={\"doc_title\": file.split(\".\")[0], \"chunk_num\": i}))"
   ]
  },
  {
   "cell_type": "code",
   "execution_count": 10,
   "metadata": {},
   "outputs": [],
   "source": [
    "# For the first run\n",
    "# \n",
    "vector_store = Milvus.from_documents(\n",
    "    file_texts,\n",
    "    embedding=embeddings,\n",
    "    connection_args={\"host\": \"localhost\", \"port\": 19530},\n",
    "    collection_name=\"french_cities\"\n",
    ")\n",
    "\n",
    "# if you already have the data you need stored in Milvus\n",
    "# vector_store = Milvus(\n",
    "#     embedding_function=embeddings,\n",
    "#     connection_args={\"host\": \"localhost\", \"port\": 19530},\n",
    "#     collection_name=\"french cities\"\n",
    "# )"
   ]
  },
  {
   "cell_type": "code",
   "execution_count": 11,
   "metadata": {},
   "outputs": [],
   "source": [
    "retriever = vector_store.as_retriever()"
   ]
  },
  {
   "cell_type": "code",
   "execution_count": 12,
   "metadata": {},
   "outputs": [],
   "source": [
    "from langchain.prompts import ChatPromptTemplate\n",
    "template=\"\"\"You are an assistant for question-answering tasks. \n",
    "Use the following pieces of retrieved context to answer the question. \n",
    "If you don't know the answer, just say that you don't know. \n",
    "Use three sentences maximum and keep the answer concise.\n",
    "Answer in French.\n",
    "Question: {question} \n",
    "Context: {context} \n",
    "Answer:\"\"\"\n",
    "prompt = ChatPromptTemplate.from_template(template)"
   ]
  },
  {
   "cell_type": "code",
   "execution_count": 13,
   "metadata": {},
   "outputs": [],
   "source": [
    "from langchain_core.runnables import RunnablePassthrough\n",
    "from langchain_core.output_parsers import StrOutputParser\n",
    "chain = (\n",
    "    {\"context\": retriever, \"question\": RunnablePassthrough()}\n",
    "    | prompt\n",
    "    | llm\n",
    "    | StrOutputParser()\n",
    ")"
   ]
  },
  {
   "cell_type": "code",
   "execution_count": 14,
   "metadata": {},
   "outputs": [
    {
     "name": "stderr",
     "output_type": "stream",
     "text": [
      "huggingface/tokenizers: The current process just got forked, after parallelism has already been used. Disabling parallelism to avoid deadlocks...\n",
      "To disable this warning, you can either:\n",
      "\t- Avoid using `tokenizers` before the fork if possible\n",
      "\t- Explicitly set the environment variable TOKENIZERS_PARALLELISM=(true | false)\n"
     ]
    }
   ],
   "source": [
    "response = chain.invoke(\"Tell me a historical fact about Karachi.\")"
   ]
  },
  {
   "cell_type": "code",
   "execution_count": 15,
   "metadata": {},
   "outputs": [
    {
     "data": {
      "text/plain": [
       "\" Karachi a été mentionnée pour la première fois dans l'ouvrage Histoire des plantes de Théophraste au IIIe siècle av. J.-C. Elle a été occupée par les Britanniques au début du XIXe siècle et est devenue la capitale du Sind en 1839. En 1876, le futur fondateur du Pakistan, Muhammad Ali Jinnah, est né et enterré à Karachi.\""
      ]
     },
     "execution_count": 15,
     "metadata": {},
     "output_type": "execute_result"
    }
   ],
   "source": [
    "response"
   ]
  },
  {
   "cell_type": "code",
   "execution_count": 16,
   "metadata": {},
   "outputs": [],
   "source": [
    "response_2 = chain.invoke(\"Racontez-moi un fait historique sur Karachi.\")"
   ]
  },
  {
   "cell_type": "code",
   "execution_count": 17,
   "metadata": {},
   "outputs": [
    {
     "data": {
      "text/plain": [
       "\" Karachi est une ville qui a été fondée par les Britanniques au début du XIXe siècle et qui est devenue la capitale du Sind. Elle a été un important centre économique et a connu une croissance rapide, notamment grâce à son port. Depuis les années 1980, la ville a été le théâtre de conflits ethniques et religieux, et en 2012, elle a été le site de l'incendie industriel le plus meurtrier de l'histoire.\""
      ]
     },
     "execution_count": 17,
     "metadata": {},
     "output_type": "execute_result"
    }
   ],
   "source": [
    "response_2"
   ]
  },
  {
   "cell_type": "code",
   "execution_count": null,
   "metadata": {},
   "outputs": [],
   "source": []
  }
 ],
 "metadata": {
  "kernelspec": {
   "display_name": "Python 3 (ipykernel)",
   "language": "python",
   "name": "python3"
  },
  "language_info": {
   "codemirror_mode": {
    "name": "ipython",
    "version": 3
   },
   "file_extension": ".py",
   "mimetype": "text/x-python",
   "name": "python",
   "nbconvert_exporter": "python",
   "pygments_lexer": "ipython3",
   "version": "3.12.1"
  }
 },
 "nbformat": 4,
 "nbformat_minor": 4
}
