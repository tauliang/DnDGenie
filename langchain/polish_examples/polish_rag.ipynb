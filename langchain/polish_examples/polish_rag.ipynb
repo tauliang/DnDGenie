{
 "cells": [
  {
   "cell_type": "code",
   "execution_count": null,
   "metadata": {},
   "outputs": [],
   "source": [
    "# ! pip install -qU pymilvus langchain sentence-transformers tiktoken octoai-sdk openai \n",
    "# ! zsh ../standalone_embed.sh start"
   ]
  },
  {
   "cell_type": "code",
   "execution_count": 1,
   "metadata": {},
   "outputs": [],
   "source": [
    "from dotenv import load_dotenv\n",
    "import os\n",
    "\n",
    "load_dotenv()\n",
    "os.environ[\"OPENAI_API_KEY\"] = os.getenv(\"OPENAI_API_KEY\")"
   ]
  },
  {
   "cell_type": "code",
   "execution_count": 2,
   "metadata": {},
   "outputs": [],
   "source": [
    "from langchain_openai import OpenAI\n",
    "llm = OpenAI()"
   ]
  },
  {
   "cell_type": "code",
   "execution_count": 3,
   "metadata": {},
   "outputs": [],
   "source": [
    "from langchain_community.embeddings import HuggingFaceEmbeddings\n",
    "from langchain_community.vectorstores import Milvus"
   ]
  },
  {
   "cell_type": "code",
   "execution_count": 4,
   "metadata": {},
   "outputs": [
    {
     "name": "stderr",
     "output_type": "stream",
     "text": [
      "/Users/yujiantang/Documents/workspace/rag_cookbooks/rcbs/lib/python3.12/site-packages/tqdm/auto.py:21: TqdmWarning: IProgress not found. Please update jupyter and ipywidgets. See https://ipywidgets.readthedocs.io/en/stable/user_install.html\n",
      "  from .autonotebook import tqdm as notebook_tqdm\n",
      "/Users/yujiantang/Documents/workspace/rag_cookbooks/rcbs/lib/python3.12/site-packages/huggingface_hub/file_download.py:1132: FutureWarning: `resume_download` is deprecated and will be removed in version 1.0.0. Downloads always resume when possible. If you want to force a new download, use `force_download=True`.\n",
      "  warnings.warn(\n"
     ]
    }
   ],
   "source": [
    "embeddings = HuggingFaceEmbeddings(model_name=\"sdadas/mmlw-roberta-base\")"
   ]
  },
  {
   "cell_type": "code",
   "execution_count": 5,
   "metadata": {},
   "outputs": [],
   "source": [
    "from langchain.text_splitter import CharacterTextSplitter\n",
    "from langchain.schema import Document\n",
    "import os"
   ]
  },
  {
   "cell_type": "code",
   "execution_count": 6,
   "metadata": {},
   "outputs": [],
   "source": [
    "files = os.listdir(\"./polish_city_data\")"
   ]
  },
  {
   "cell_type": "code",
   "execution_count": 7,
   "metadata": {},
   "outputs": [
    {
     "data": {
      "text/plain": [
       "['Chicago.txt',\n",
       " 'Berlin.txt',\n",
       " 'Lizbona.txt',\n",
       " 'Paryż.txt',\n",
       " 'Szanghaj.txt',\n",
       " 'Houston.txt',\n",
       " 'Seattle.txt',\n",
       " 'Karaczi.txt',\n",
       " 'Kopenhaga.txt',\n",
       " 'Monachium.txt',\n",
       " 'Tokio.txt',\n",
       " 'Toronto.txt',\n",
       " 'Londyn.txt',\n",
       " 'San Francisco.txt',\n",
       " 'Atlanta.txt',\n",
       " 'Boston.txt',\n",
       " 'Pekin.txt',\n",
       " 'Moskwa.txt',\n",
       " 'Kair.txt']"
      ]
     },
     "execution_count": 7,
     "metadata": {},
     "output_type": "execute_result"
    }
   ],
   "source": [
    "files"
   ]
  },
  {
   "cell_type": "code",
   "execution_count": 8,
   "metadata": {},
   "outputs": [],
   "source": [
    "file_texts = []"
   ]
  },
  {
   "cell_type": "code",
   "execution_count": 9,
   "metadata": {},
   "outputs": [
    {
     "name": "stderr",
     "output_type": "stream",
     "text": [
      "Created a chunk of size 729, which is longer than the specified 512\n",
      "Created a chunk of size 835, which is longer than the specified 512\n",
      "Created a chunk of size 1448, which is longer than the specified 512\n",
      "Created a chunk of size 633, which is longer than the specified 512\n",
      "Created a chunk of size 922, which is longer than the specified 512\n",
      "Created a chunk of size 1077, which is longer than the specified 512\n",
      "Created a chunk of size 542, which is longer than the specified 512\n",
      "Created a chunk of size 547, which is longer than the specified 512\n",
      "Created a chunk of size 561, which is longer than the specified 512\n",
      "Created a chunk of size 761, which is longer than the specified 512\n",
      "Created a chunk of size 609, which is longer than the specified 512\n",
      "Created a chunk of size 816, which is longer than the specified 512\n",
      "Created a chunk of size 721, which is longer than the specified 512\n",
      "Created a chunk of size 633, which is longer than the specified 512\n",
      "Created a chunk of size 3028, which is longer than the specified 512\n",
      "Created a chunk of size 794, which is longer than the specified 512\n",
      "Created a chunk of size 527, which is longer than the specified 512\n",
      "Created a chunk of size 886, which is longer than the specified 512\n",
      "Created a chunk of size 665, which is longer than the specified 512\n",
      "Created a chunk of size 649, which is longer than the specified 512\n",
      "Created a chunk of size 839, which is longer than the specified 512\n",
      "Created a chunk of size 535, which is longer than the specified 512\n",
      "Created a chunk of size 695, which is longer than the specified 512\n",
      "Created a chunk of size 1128, which is longer than the specified 512\n",
      "Created a chunk of size 515, which is longer than the specified 512\n",
      "Created a chunk of size 669, which is longer than the specified 512\n",
      "Created a chunk of size 830, which is longer than the specified 512\n",
      "Created a chunk of size 1568, which is longer than the specified 512\n",
      "Created a chunk of size 936, which is longer than the specified 512\n",
      "Created a chunk of size 1321, which is longer than the specified 512\n",
      "Created a chunk of size 714, which is longer than the specified 512\n",
      "Created a chunk of size 1634, which is longer than the specified 512\n",
      "Created a chunk of size 614, which is longer than the specified 512\n",
      "Created a chunk of size 974, which is longer than the specified 512\n",
      "Created a chunk of size 995, which is longer than the specified 512\n",
      "Created a chunk of size 526, which is longer than the specified 512\n",
      "Created a chunk of size 620, which is longer than the specified 512\n",
      "Created a chunk of size 1185, which is longer than the specified 512\n",
      "Created a chunk of size 644, which is longer than the specified 512\n",
      "Created a chunk of size 826, which is longer than the specified 512\n",
      "Created a chunk of size 1366, which is longer than the specified 512\n",
      "Created a chunk of size 1023, which is longer than the specified 512\n",
      "Created a chunk of size 1039, which is longer than the specified 512\n",
      "Created a chunk of size 1669, which is longer than the specified 512\n",
      "Created a chunk of size 785, which is longer than the specified 512\n",
      "Created a chunk of size 728, which is longer than the specified 512\n",
      "Created a chunk of size 835, which is longer than the specified 512\n",
      "Created a chunk of size 811, which is longer than the specified 512\n",
      "Created a chunk of size 792, which is longer than the specified 512\n",
      "Created a chunk of size 611, which is longer than the specified 512\n",
      "Created a chunk of size 985, which is longer than the specified 512\n",
      "Created a chunk of size 529, which is longer than the specified 512\n",
      "Created a chunk of size 582, which is longer than the specified 512\n",
      "Created a chunk of size 676, which is longer than the specified 512\n",
      "Created a chunk of size 976, which is longer than the specified 512\n",
      "Created a chunk of size 731, which is longer than the specified 512\n",
      "Created a chunk of size 927, which is longer than the specified 512\n",
      "Created a chunk of size 1575, which is longer than the specified 512\n",
      "Created a chunk of size 1645, which is longer than the specified 512\n",
      "Created a chunk of size 1590, which is longer than the specified 512\n",
      "Created a chunk of size 982, which is longer than the specified 512\n",
      "Created a chunk of size 611, which is longer than the specified 512\n",
      "Created a chunk of size 1434, which is longer than the specified 512\n",
      "Created a chunk of size 674, which is longer than the specified 512\n",
      "Created a chunk of size 522, which is longer than the specified 512\n",
      "Created a chunk of size 1523, which is longer than the specified 512\n",
      "Created a chunk of size 1834, which is longer than the specified 512\n",
      "Created a chunk of size 2412, which is longer than the specified 512\n",
      "Created a chunk of size 1987, which is longer than the specified 512\n",
      "Created a chunk of size 1218, which is longer than the specified 512\n",
      "Created a chunk of size 847, which is longer than the specified 512\n",
      "Created a chunk of size 857, which is longer than the specified 512\n",
      "Created a chunk of size 646, which is longer than the specified 512\n",
      "Created a chunk of size 1579, which is longer than the specified 512\n",
      "Created a chunk of size 867, which is longer than the specified 512\n",
      "Created a chunk of size 1546, which is longer than the specified 512\n",
      "Created a chunk of size 1863, which is longer than the specified 512\n",
      "Created a chunk of size 548, which is longer than the specified 512\n",
      "Created a chunk of size 655, which is longer than the specified 512\n",
      "Created a chunk of size 582, which is longer than the specified 512\n",
      "Created a chunk of size 1026, which is longer than the specified 512\n",
      "Created a chunk of size 990, which is longer than the specified 512\n",
      "Created a chunk of size 1225, which is longer than the specified 512\n",
      "Created a chunk of size 549, which is longer than the specified 512\n",
      "Created a chunk of size 533, which is longer than the specified 512\n",
      "Created a chunk of size 587, which is longer than the specified 512\n",
      "Created a chunk of size 522, which is longer than the specified 512\n",
      "Created a chunk of size 2193, which is longer than the specified 512\n",
      "Created a chunk of size 904, which is longer than the specified 512\n",
      "Created a chunk of size 550, which is longer than the specified 512\n",
      "Created a chunk of size 546, which is longer than the specified 512\n",
      "Created a chunk of size 623, which is longer than the specified 512\n",
      "Created a chunk of size 2721, which is longer than the specified 512\n",
      "Created a chunk of size 653, which is longer than the specified 512\n",
      "Created a chunk of size 675, which is longer than the specified 512\n",
      "Created a chunk of size 2682, which is longer than the specified 512\n",
      "Created a chunk of size 662, which is longer than the specified 512\n",
      "Created a chunk of size 913, which is longer than the specified 512\n",
      "Created a chunk of size 733, which is longer than the specified 512\n",
      "Created a chunk of size 1188, which is longer than the specified 512\n",
      "Created a chunk of size 1025, which is longer than the specified 512\n",
      "Created a chunk of size 1146, which is longer than the specified 512\n",
      "Created a chunk of size 541, which is longer than the specified 512\n",
      "Created a chunk of size 842, which is longer than the specified 512\n",
      "Created a chunk of size 1683, which is longer than the specified 512\n",
      "Created a chunk of size 1201, which is longer than the specified 512\n",
      "Created a chunk of size 1124, which is longer than the specified 512\n",
      "Created a chunk of size 1444, which is longer than the specified 512\n",
      "Created a chunk of size 536, which is longer than the specified 512\n",
      "Created a chunk of size 610, which is longer than the specified 512\n",
      "Created a chunk of size 871, which is longer than the specified 512\n",
      "Created a chunk of size 1444, which is longer than the specified 512\n",
      "Created a chunk of size 1119, which is longer than the specified 512\n",
      "Created a chunk of size 575, which is longer than the specified 512\n",
      "Created a chunk of size 598, which is longer than the specified 512\n",
      "Created a chunk of size 1054, which is longer than the specified 512\n",
      "Created a chunk of size 658, which is longer than the specified 512\n",
      "Created a chunk of size 1077, which is longer than the specified 512\n",
      "Created a chunk of size 992, which is longer than the specified 512\n",
      "Created a chunk of size 954, which is longer than the specified 512\n",
      "Created a chunk of size 859, which is longer than the specified 512\n",
      "Created a chunk of size 927, which is longer than the specified 512\n",
      "Created a chunk of size 602, which is longer than the specified 512\n",
      "Created a chunk of size 940, which is longer than the specified 512\n",
      "Created a chunk of size 821, which is longer than the specified 512\n",
      "Created a chunk of size 559, which is longer than the specified 512\n",
      "Created a chunk of size 1430, which is longer than the specified 512\n",
      "Created a chunk of size 1267, which is longer than the specified 512\n",
      "Created a chunk of size 592, which is longer than the specified 512\n",
      "Created a chunk of size 665, which is longer than the specified 512\n",
      "Created a chunk of size 630, which is longer than the specified 512\n",
      "Created a chunk of size 584, which is longer than the specified 512\n",
      "Created a chunk of size 1167, which is longer than the specified 512\n",
      "Created a chunk of size 841, which is longer than the specified 512\n",
      "Created a chunk of size 707, which is longer than the specified 512\n",
      "Created a chunk of size 549, which is longer than the specified 512\n",
      "Created a chunk of size 577, which is longer than the specified 512\n",
      "Created a chunk of size 1117, which is longer than the specified 512\n",
      "Created a chunk of size 1007, which is longer than the specified 512\n",
      "Created a chunk of size 772, which is longer than the specified 512\n",
      "Created a chunk of size 1216, which is longer than the specified 512\n",
      "Created a chunk of size 2443, which is longer than the specified 512\n",
      "Created a chunk of size 946, which is longer than the specified 512\n",
      "Created a chunk of size 723, which is longer than the specified 512\n",
      "Created a chunk of size 1010, which is longer than the specified 512\n",
      "Created a chunk of size 784, which is longer than the specified 512\n",
      "Created a chunk of size 1435, which is longer than the specified 512\n",
      "Created a chunk of size 1226, which is longer than the specified 512\n",
      "Created a chunk of size 1904, which is longer than the specified 512\n",
      "Created a chunk of size 1034, which is longer than the specified 512\n",
      "Created a chunk of size 2140, which is longer than the specified 512\n",
      "Created a chunk of size 669, which is longer than the specified 512\n",
      "Created a chunk of size 752, which is longer than the specified 512\n",
      "Created a chunk of size 683, which is longer than the specified 512\n",
      "Created a chunk of size 653, which is longer than the specified 512\n",
      "Created a chunk of size 584, which is longer than the specified 512\n",
      "Created a chunk of size 695, which is longer than the specified 512\n",
      "Created a chunk of size 840, which is longer than the specified 512\n",
      "Created a chunk of size 535, which is longer than the specified 512\n",
      "Created a chunk of size 783, which is longer than the specified 512\n",
      "Created a chunk of size 708, which is longer than the specified 512\n",
      "Created a chunk of size 971, which is longer than the specified 512\n",
      "Created a chunk of size 728, which is longer than the specified 512\n",
      "Created a chunk of size 530, which is longer than the specified 512\n",
      "Created a chunk of size 881, which is longer than the specified 512\n",
      "Created a chunk of size 1118, which is longer than the specified 512\n",
      "Created a chunk of size 592, which is longer than the specified 512\n",
      "Created a chunk of size 660, which is longer than the specified 512\n",
      "Created a chunk of size 819, which is longer than the specified 512\n",
      "Created a chunk of size 805, which is longer than the specified 512\n"
     ]
    }
   ],
   "source": [
    "for file in files:\n",
    "    with open(f\"./polish_city_data/{file}\") as f:\n",
    "        file_text = f.read()\n",
    "    text_splitter = CharacterTextSplitter.from_tiktoken_encoder(\n",
    "        chunk_size=512, chunk_overlap=64, \n",
    "    )\n",
    "    texts = text_splitter.split_text(file_text)\n",
    "    for i, chunked_text in enumerate(texts):\n",
    "        file_texts.append(Document(page_content=chunked_text, \n",
    "                metadata={\"doc_title\": file.split(\".\")[0], \"chunk_num\": i}))"
   ]
  },
  {
   "cell_type": "code",
   "execution_count": 10,
   "metadata": {},
   "outputs": [],
   "source": [
    "# For the first run\n",
    "# \n",
    "vector_store = Milvus.from_documents(\n",
    "    file_texts,\n",
    "    embedding=embeddings,\n",
    "    connection_args={\"host\": \"localhost\", \"port\": 19530},\n",
    "    collection_name=\"polish_cities\"\n",
    ")\n",
    "\n",
    "# if you already have the data you need stored in Milvus\n",
    "# vector_store = Milvus(\n",
    "#     embedding_function=embeddings,\n",
    "#     connection_args={\"host\": \"localhost\", \"port\": 19530},\n",
    "#     collection_name=\"french cities\"\n",
    "# )"
   ]
  },
  {
   "cell_type": "code",
   "execution_count": 11,
   "metadata": {},
   "outputs": [],
   "source": [
    "retriever = vector_store.as_retriever()"
   ]
  },
  {
   "cell_type": "code",
   "execution_count": 12,
   "metadata": {},
   "outputs": [],
   "source": [
    "from langchain.prompts import ChatPromptTemplate\n",
    "template=\"\"\"You are an assistant for question-answering tasks. \n",
    "Use the following pieces of retrieved context to answer the question. \n",
    "If you don't know the answer, just say that you don't know. \n",
    "Use three sentences maximum and keep the answer concise.\n",
    "Answer in Polish.\n",
    "Question: {question} \n",
    "Context: {context} \n",
    "Answer:\"\"\"\n",
    "prompt = ChatPromptTemplate.from_template(template)"
   ]
  },
  {
   "cell_type": "code",
   "execution_count": 13,
   "metadata": {},
   "outputs": [],
   "source": [
    "from langchain_core.runnables import RunnablePassthrough\n",
    "from langchain_core.output_parsers import StrOutputParser\n",
    "chain = (\n",
    "    {\"context\": retriever, \"question\": RunnablePassthrough()}\n",
    "    | prompt\n",
    "    | llm\n",
    "    | StrOutputParser()\n",
    ")"
   ]
  },
  {
   "cell_type": "code",
   "execution_count": 14,
   "metadata": {},
   "outputs": [
    {
     "name": "stderr",
     "output_type": "stream",
     "text": [
      "huggingface/tokenizers: The current process just got forked, after parallelism has already been used. Disabling parallelism to avoid deadlocks...\n",
      "To disable this warning, you can either:\n",
      "\t- Avoid using `tokenizers` before the fork if possible\n",
      "\t- Explicitly set the environment variable TOKENIZERS_PARALLELISM=(true | false)\n"
     ]
    }
   ],
   "source": [
    "response = chain.invoke(\"Which sports teams are in Chicago?\")"
   ]
  },
  {
   "cell_type": "code",
   "execution_count": 15,
   "metadata": {},
   "outputs": [
    {
     "data": {
      "text/plain": [
       "' Drużyny sportowe w Chicago to Chicago Cubs, Chicago White Sox, Chicago Blackhawks, Chicago Bulls, Chicago Bears i Chicago Fire.'"
      ]
     },
     "execution_count": 15,
     "metadata": {},
     "output_type": "execute_result"
    }
   ],
   "source": [
    "response"
   ]
  },
  {
   "cell_type": "code",
   "execution_count": 16,
   "metadata": {},
   "outputs": [],
   "source": [
    "response_2 = chain.invoke(\"Które drużyny sportowe są w Chicago?\")"
   ]
  },
  {
   "cell_type": "code",
   "execution_count": 17,
   "metadata": {},
   "outputs": [
    {
     "data": {
      "text/plain": [
       "' W Chicago znajdują się drużyny sportowe Chicago Cubs, Chicago White Sox, Chicago Blackhawks, Chicago Bulls, Chicago Bears i Chicago Fire.'"
      ]
     },
     "execution_count": 17,
     "metadata": {},
     "output_type": "execute_result"
    }
   ],
   "source": [
    "response_2"
   ]
  },
  {
   "cell_type": "code",
   "execution_count": null,
   "metadata": {},
   "outputs": [],
   "source": []
  }
 ],
 "metadata": {
  "kernelspec": {
   "display_name": "Python 3 (ipykernel)",
   "language": "python",
   "name": "python3"
  },
  "language_info": {
   "codemirror_mode": {
    "name": "ipython",
    "version": 3
   },
   "file_extension": ".py",
   "mimetype": "text/x-python",
   "name": "python",
   "nbconvert_exporter": "python",
   "pygments_lexer": "ipython3",
   "version": "3.12.1"
  }
 },
 "nbformat": 4,
 "nbformat_minor": 4
}
