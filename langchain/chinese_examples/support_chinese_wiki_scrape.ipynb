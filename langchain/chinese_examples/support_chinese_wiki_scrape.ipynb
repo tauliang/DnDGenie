{
 "cells": [
  {
   "cell_type": "code",
   "execution_count": 8,
   "metadata": {},
   "outputs": [],
   "source": [
    "wiki_titles = [\n",
    "\t\"亚特兰大\", # \"Atlanta\",\n",
    "\t\"北京市\", # Beijing\n",
    "\t\"柏林\", # \"Berlin\",\n",
    "\t\"波士顿\", # \"Boston\",\n",
    "\t\"开罗\", # \"Cairo\",\n",
    "\t\"芝加哥\", # \"Chicago\",\n",
    "\t\"哥本哈根\", # \"Copenhagen\",\n",
    "\t\"休斯敦\", #\"Houston\",\n",
    "\t\"卡拉奇\", #\"Karachi\",\n",
    "\t\"里斯本\", #\"Lisbon\",\n",
    "\t\"伦敦\", #\"London\",\n",
    "\t\"莫斯科\", #\"Moscow\",\n",
    "\t\"慕尼黑\", #\"Munich\",\n",
    "\t\"巴黎\", #\"Paris\",\n",
    "\t\"旧金山\", #\"San Francisco\",\n",
    "\t\"西雅圖\", # \"Seattle\",\n",
    "\t\"上海市_(中華民國)\", #\"Shanghai\",\n",
    "\t\"东京\", #\"Tokyo\",\n",
    "\t\"多伦多\", #\"Toronto\",\n",
    "]"
   ]
  },
  {
   "cell_type": "code",
   "execution_count": 9,
   "metadata": {},
   "outputs": [],
   "source": [
    "from pathlib import Path\n",
    "\n",
    "import requests\n",
    "\n",
    "for title in wiki_titles:\n",
    "    response = requests.get(\n",
    "        \"https://zh.wikipedia.org/w/api.php\",\n",
    "        params={\n",
    "            \"action\": \"query\",\n",
    "            \"format\": \"json\",\n",
    "            \"titles\": title,\n",
    "            \"prop\": \"extracts\",\n",
    "            # 'exintro': True,\n",
    "            \"explaintext\": True,\n",
    "        },\n",
    "    ).json()\n",
    "    page = next(iter(response[\"query\"][\"pages\"].values()))\n",
    "    wiki_text = page[\"extract\"]\n",
    "\n",
    "    data_path = Path(\"./chinese_city_data\")\n",
    "    if not data_path.exists():\n",
    "        Path.mkdir(data_path)\n",
    "\n",
    "    with open(data_path / f\"{title}.txt\", \"w\") as fp:\n",
    "        fp.write(wiki_text)"
   ]
  },
  {
   "cell_type": "code",
   "execution_count": null,
   "metadata": {},
   "outputs": [],
   "source": []
  }
 ],
 "metadata": {
  "kernelspec": {
   "display_name": "rcbs",
   "language": "python",
   "name": "python3"
  },
  "language_info": {
   "codemirror_mode": {
    "name": "ipython",
    "version": 3
   },
   "file_extension": ".py",
   "mimetype": "text/x-python",
   "name": "python",
   "nbconvert_exporter": "python",
   "pygments_lexer": "ipython3",
   "version": "3.12.1"
  }
 },
 "nbformat": 4,
 "nbformat_minor": 2
}
